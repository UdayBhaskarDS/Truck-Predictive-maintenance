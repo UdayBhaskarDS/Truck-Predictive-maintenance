{
 "cells": [
  {
   "cell_type": "code",
   "execution_count": 138,
   "id": "2d8f8fc6",
   "metadata": {},
   "outputs": [],
   "source": [
    "import pandas as pd\n",
    "import numpy as np"
   ]
  },
  {
   "cell_type": "code",
   "execution_count": 139,
   "id": "22e40082",
   "metadata": {},
   "outputs": [],
   "source": [
    "data = pd.read_csv('aps_failure_training_set.csv')"
   ]
  },
  {
   "cell_type": "code",
   "execution_count": 140,
   "id": "95594b39",
   "metadata": {},
   "outputs": [
    {
     "data": {
      "text/html": [
       "<div>\n",
       "<style scoped>\n",
       "    .dataframe tbody tr th:only-of-type {\n",
       "        vertical-align: middle;\n",
       "    }\n",
       "\n",
       "    .dataframe tbody tr th {\n",
       "        vertical-align: top;\n",
       "    }\n",
       "\n",
       "    .dataframe thead th {\n",
       "        text-align: right;\n",
       "    }\n",
       "</style>\n",
       "<table border=\"1\" class=\"dataframe\">\n",
       "  <thead>\n",
       "    <tr style=\"text-align: right;\">\n",
       "      <th></th>\n",
       "      <th>class</th>\n",
       "      <th>aa_000</th>\n",
       "      <th>ab_000</th>\n",
       "      <th>ac_000</th>\n",
       "      <th>ad_000</th>\n",
       "      <th>ae_000</th>\n",
       "      <th>af_000</th>\n",
       "      <th>ag_000</th>\n",
       "      <th>ag_001</th>\n",
       "      <th>ag_002</th>\n",
       "      <th>...</th>\n",
       "      <th>ee_002</th>\n",
       "      <th>ee_003</th>\n",
       "      <th>ee_004</th>\n",
       "      <th>ee_005</th>\n",
       "      <th>ee_006</th>\n",
       "      <th>ee_007</th>\n",
       "      <th>ee_008</th>\n",
       "      <th>ee_009</th>\n",
       "      <th>ef_000</th>\n",
       "      <th>eg_000</th>\n",
       "    </tr>\n",
       "  </thead>\n",
       "  <tbody>\n",
       "    <tr>\n",
       "      <th>0</th>\n",
       "      <td>neg</td>\n",
       "      <td>76698</td>\n",
       "      <td>na</td>\n",
       "      <td>2130706438</td>\n",
       "      <td>280</td>\n",
       "      <td>0</td>\n",
       "      <td>0</td>\n",
       "      <td>0</td>\n",
       "      <td>0</td>\n",
       "      <td>0</td>\n",
       "      <td>...</td>\n",
       "      <td>1240520</td>\n",
       "      <td>493384</td>\n",
       "      <td>721044</td>\n",
       "      <td>469792</td>\n",
       "      <td>339156</td>\n",
       "      <td>157956</td>\n",
       "      <td>73224</td>\n",
       "      <td>0</td>\n",
       "      <td>0</td>\n",
       "      <td>0</td>\n",
       "    </tr>\n",
       "    <tr>\n",
       "      <th>1</th>\n",
       "      <td>neg</td>\n",
       "      <td>33058</td>\n",
       "      <td>na</td>\n",
       "      <td>0</td>\n",
       "      <td>na</td>\n",
       "      <td>0</td>\n",
       "      <td>0</td>\n",
       "      <td>0</td>\n",
       "      <td>0</td>\n",
       "      <td>0</td>\n",
       "      <td>...</td>\n",
       "      <td>421400</td>\n",
       "      <td>178064</td>\n",
       "      <td>293306</td>\n",
       "      <td>245416</td>\n",
       "      <td>133654</td>\n",
       "      <td>81140</td>\n",
       "      <td>97576</td>\n",
       "      <td>1500</td>\n",
       "      <td>0</td>\n",
       "      <td>0</td>\n",
       "    </tr>\n",
       "  </tbody>\n",
       "</table>\n",
       "<p>2 rows × 171 columns</p>\n",
       "</div>"
      ],
      "text/plain": [
       "  class  aa_000 ab_000      ac_000 ad_000 ae_000 af_000 ag_000 ag_001 ag_002  \\\n",
       "0   neg   76698     na  2130706438    280      0      0      0      0      0   \n",
       "1   neg   33058     na           0     na      0      0      0      0      0   \n",
       "\n",
       "   ...     ee_002  ee_003  ee_004  ee_005  ee_006  ee_007 ee_008 ee_009  \\\n",
       "0  ...    1240520  493384  721044  469792  339156  157956  73224      0   \n",
       "1  ...     421400  178064  293306  245416  133654   81140  97576   1500   \n",
       "\n",
       "  ef_000 eg_000  \n",
       "0      0      0  \n",
       "1      0      0  \n",
       "\n",
       "[2 rows x 171 columns]"
      ]
     },
     "execution_count": 140,
     "metadata": {},
     "output_type": "execute_result"
    }
   ],
   "source": [
    "data.head(2)"
   ]
  },
  {
   "cell_type": "code",
   "execution_count": 142,
   "id": "0c1b3a02",
   "metadata": {},
   "outputs": [
    {
     "data": {
      "text/plain": [
       "neg    59000\n",
       "pos     1000\n",
       "Name: class, dtype: int64"
      ]
     },
     "execution_count": 142,
     "metadata": {},
     "output_type": "execute_result"
    }
   ],
   "source": [
    "data['class'].value_counts()"
   ]
  },
  {
   "cell_type": "code",
   "execution_count": 143,
   "id": "cc41690e",
   "metadata": {},
   "outputs": [
    {
     "data": {
      "text/plain": [
       "neg   0.983\n",
       "pos   0.017\n",
       "Name: class, dtype: float64"
      ]
     },
     "execution_count": 143,
     "metadata": {},
     "output_type": "execute_result"
    }
   ],
   "source": [
    "data['class'].value_counts(normalize = True)"
   ]
  },
  {
   "cell_type": "code",
   "execution_count": null,
   "id": "0a15abd4",
   "metadata": {},
   "outputs": [],
   "source": []
  },
  {
   "cell_type": "code",
   "execution_count": 4,
   "id": "6a0a75bc",
   "metadata": {},
   "outputs": [
    {
     "data": {
      "text/plain": [
       "False"
      ]
     },
     "execution_count": 4,
     "metadata": {},
     "output_type": "execute_result"
    }
   ],
   "source": [
    "#Checking missing data\n",
    "data.isna().sum().any()"
   ]
  },
  {
   "cell_type": "code",
   "execution_count": 5,
   "id": "3f7e0e57",
   "metadata": {},
   "outputs": [
    {
     "data": {
      "text/plain": [
       "(60000, 171)"
      ]
     },
     "execution_count": 5,
     "metadata": {},
     "output_type": "execute_result"
    }
   ],
   "source": [
    "data.shape"
   ]
  },
  {
   "cell_type": "code",
   "execution_count": 6,
   "id": "636626d7",
   "metadata": {},
   "outputs": [
    {
     "name": "stdout",
     "output_type": "stream",
     "text": [
      "<class 'pandas.core.frame.DataFrame'>\n",
      "RangeIndex: 60000 entries, 0 to 59999\n",
      "Columns: 171 entries, class to eg_000\n",
      "dtypes: int64(1), object(170)\n",
      "memory usage: 78.3+ MB\n"
     ]
    }
   ],
   "source": [
    "data.info()"
   ]
  },
  {
   "cell_type": "code",
   "execution_count": 7,
   "id": "c6e620af",
   "metadata": {},
   "outputs": [
    {
     "name": "stdout",
     "output_type": "stream",
     "text": [
      "class     object\n",
      "aa_000     int64\n",
      "ab_000    object\n",
      "ac_000    object\n",
      "ad_000    object\n",
      "ae_000    object\n",
      "af_000    object\n",
      "ag_000    object\n",
      "ag_001    object\n",
      "ag_002    object\n",
      "ag_003    object\n",
      "ag_004    object\n",
      "ag_005    object\n",
      "ag_006    object\n",
      "ag_007    object\n",
      "ag_008    object\n",
      "ag_009    object\n",
      "ah_000    object\n",
      "ai_000    object\n",
      "aj_000    object\n",
      "ak_000    object\n",
      "al_000    object\n",
      "am_0      object\n",
      "an_000    object\n",
      "ao_000    object\n",
      "ap_000    object\n",
      "aq_000    object\n",
      "ar_000    object\n",
      "as_000    object\n",
      "at_000    object\n",
      "           ...  \n",
      "dl_000    object\n",
      "dm_000    object\n",
      "dn_000    object\n",
      "do_000    object\n",
      "dp_000    object\n",
      "dq_000    object\n",
      "dr_000    object\n",
      "ds_000    object\n",
      "dt_000    object\n",
      "du_000    object\n",
      "dv_000    object\n",
      "dx_000    object\n",
      "dy_000    object\n",
      "dz_000    object\n",
      "ea_000    object\n",
      "eb_000    object\n",
      "ec_00     object\n",
      "ed_000    object\n",
      "ee_000    object\n",
      "ee_001    object\n",
      "ee_002    object\n",
      "ee_003    object\n",
      "ee_004    object\n",
      "ee_005    object\n",
      "ee_006    object\n",
      "ee_007    object\n",
      "ee_008    object\n",
      "ee_009    object\n",
      "ef_000    object\n",
      "eg_000    object\n",
      "Length: 171, dtype: object\n"
     ]
    }
   ],
   "source": [
    "print(data.dtypes)\n"
   ]
  },
  {
   "cell_type": "code",
   "execution_count": 8,
   "id": "fe3c560f",
   "metadata": {},
   "outputs": [
    {
     "data": {
      "text/plain": [
       "Index(['aa_000'], dtype='object')"
      ]
     },
     "execution_count": 8,
     "metadata": {},
     "output_type": "execute_result"
    }
   ],
   "source": [
    "# Based on the Datatypes All the columns except aa_000 are Appearing as object but not\n",
    "\n",
    "(data.dtypes == np.int64)\n",
    "num_data = data.select_dtypes(include=[np.number])\n",
    "num_data.columns"
   ]
  },
  {
   "cell_type": "code",
   "execution_count": 9,
   "id": "da136185",
   "metadata": {},
   "outputs": [],
   "source": [
    "# Reason for this is pandas function is not able to identify 'na' as null value but recognised as string\n",
    "data1 = data.replace('na', np.nan, regex=True)"
   ]
  },
  {
   "cell_type": "code",
   "execution_count": 10,
   "id": "9401c5e5",
   "metadata": {},
   "outputs": [
    {
     "name": "stdout",
     "output_type": "stream",
     "text": [
      "True\n"
     ]
    }
   ],
   "source": [
    "print(data1.isnull().sum().any())"
   ]
  },
  {
   "cell_type": "code",
   "execution_count": 11,
   "id": "dee10325",
   "metadata": {},
   "outputs": [
    {
     "data": {
      "text/plain": [
       "24"
      ]
     },
     "execution_count": 11,
     "metadata": {},
     "output_type": "execute_result"
    }
   ],
   "source": [
    "## Identifying high null columns\n",
    "High_null_columns = data1.columns[data1.isnull().sum()/len(data1)*100 > 20]\n",
    "len(High_null_columns)"
   ]
  },
  {
   "cell_type": "code",
   "execution_count": 12,
   "id": "50bd2e44",
   "metadata": {},
   "outputs": [],
   "source": [
    "data2 = data1.drop(High_null_columns,axis = 1)"
   ]
  },
  {
   "cell_type": "code",
   "execution_count": 13,
   "id": "ab7d48c0",
   "metadata": {},
   "outputs": [
    {
     "data": {
      "text/plain": [
       "(60000, 147)"
      ]
     },
     "execution_count": 13,
     "metadata": {},
     "output_type": "execute_result"
    }
   ],
   "source": [
    "data2.shape"
   ]
  },
  {
   "cell_type": "code",
   "execution_count": 14,
   "id": "b7bd7ab1",
   "metadata": {},
   "outputs": [
    {
     "data": {
      "text/plain": [
       "class         0\n",
       "aa_000        0\n",
       "ac_000     3335\n",
       "ae_000     2500\n",
       "af_000     2500\n",
       "ag_000      671\n",
       "ag_001      671\n",
       "ag_002      671\n",
       "ag_003      671\n",
       "ag_004      671\n",
       "ag_005      671\n",
       "ag_006      671\n",
       "ag_007      671\n",
       "ag_008      671\n",
       "ag_009      671\n",
       "ah_000      645\n",
       "ai_000      629\n",
       "aj_000      629\n",
       "ak_000     4400\n",
       "al_000      642\n",
       "am_0        629\n",
       "an_000      642\n",
       "ao_000      589\n",
       "ap_000      642\n",
       "aq_000      589\n",
       "ar_000     2723\n",
       "as_000      629\n",
       "at_000      629\n",
       "au_000      629\n",
       "av_000     2500\n",
       "          ...  \n",
       "dl_000     4008\n",
       "dm_000     4009\n",
       "dn_000      691\n",
       "do_000     2724\n",
       "dp_000     2726\n",
       "dq_000     2726\n",
       "dr_000     2726\n",
       "ds_000     2727\n",
       "dt_000     2727\n",
       "du_000     2726\n",
       "dv_000     2726\n",
       "dx_000     2723\n",
       "dy_000     2724\n",
       "dz_000     2723\n",
       "ea_000     2723\n",
       "eb_000     4007\n",
       "ec_00     10239\n",
       "ed_000     9553\n",
       "ee_000      671\n",
       "ee_001      671\n",
       "ee_002      671\n",
       "ee_003      671\n",
       "ee_004      671\n",
       "ee_005      671\n",
       "ee_006      671\n",
       "ee_007      671\n",
       "ee_008      671\n",
       "ee_009      671\n",
       "ef_000     2724\n",
       "eg_000     2723\n",
       "Length: 147, dtype: int64"
      ]
     },
     "execution_count": 14,
     "metadata": {},
     "output_type": "execute_result"
    }
   ],
   "source": [
    "data2.isnull().sum()"
   ]
  },
  {
   "cell_type": "code",
   "execution_count": 15,
   "id": "6fbdd741",
   "metadata": {},
   "outputs": [
    {
     "name": "stdout",
     "output_type": "stream",
     "text": [
      "class     object\n",
      "aa_000     int64\n",
      "ac_000    object\n",
      "ae_000    object\n",
      "af_000    object\n",
      "ag_000    object\n",
      "ag_001    object\n",
      "ag_002    object\n",
      "ag_003    object\n",
      "ag_004    object\n",
      "ag_005    object\n",
      "ag_006    object\n",
      "ag_007    object\n",
      "ag_008    object\n",
      "ag_009    object\n",
      "ah_000    object\n",
      "ai_000    object\n",
      "aj_000    object\n",
      "ak_000    object\n",
      "al_000    object\n",
      "am_0      object\n",
      "an_000    object\n",
      "ao_000    object\n",
      "ap_000    object\n",
      "aq_000    object\n",
      "ar_000    object\n",
      "as_000    object\n",
      "at_000    object\n",
      "au_000    object\n",
      "av_000    object\n",
      "           ...  \n",
      "dl_000    object\n",
      "dm_000    object\n",
      "dn_000    object\n",
      "do_000    object\n",
      "dp_000    object\n",
      "dq_000    object\n",
      "dr_000    object\n",
      "ds_000    object\n",
      "dt_000    object\n",
      "du_000    object\n",
      "dv_000    object\n",
      "dx_000    object\n",
      "dy_000    object\n",
      "dz_000    object\n",
      "ea_000    object\n",
      "eb_000    object\n",
      "ec_00     object\n",
      "ed_000    object\n",
      "ee_000    object\n",
      "ee_001    object\n",
      "ee_002    object\n",
      "ee_003    object\n",
      "ee_004    object\n",
      "ee_005    object\n",
      "ee_006    object\n",
      "ee_007    object\n",
      "ee_008    object\n",
      "ee_009    object\n",
      "ef_000    object\n",
      "eg_000    object\n",
      "Length: 147, dtype: object\n"
     ]
    }
   ],
   "source": [
    "print(data2.dtypes)\n"
   ]
  },
  {
   "cell_type": "code",
   "execution_count": 16,
   "id": "8b481254",
   "metadata": {},
   "outputs": [
    {
     "data": {
      "text/html": [
       "<div>\n",
       "<style scoped>\n",
       "    .dataframe tbody tr th:only-of-type {\n",
       "        vertical-align: middle;\n",
       "    }\n",
       "\n",
       "    .dataframe tbody tr th {\n",
       "        vertical-align: top;\n",
       "    }\n",
       "\n",
       "    .dataframe thead th {\n",
       "        text-align: right;\n",
       "    }\n",
       "</style>\n",
       "<table border=\"1\" class=\"dataframe\">\n",
       "  <thead>\n",
       "    <tr style=\"text-align: right;\">\n",
       "      <th></th>\n",
       "      <th>class</th>\n",
       "      <th>aa_000</th>\n",
       "      <th>ac_000</th>\n",
       "      <th>ae_000</th>\n",
       "      <th>af_000</th>\n",
       "      <th>ag_000</th>\n",
       "      <th>ag_001</th>\n",
       "      <th>ag_002</th>\n",
       "      <th>ag_003</th>\n",
       "      <th>ag_004</th>\n",
       "      <th>...</th>\n",
       "      <th>ee_002</th>\n",
       "      <th>ee_003</th>\n",
       "      <th>ee_004</th>\n",
       "      <th>ee_005</th>\n",
       "      <th>ee_006</th>\n",
       "      <th>ee_007</th>\n",
       "      <th>ee_008</th>\n",
       "      <th>ee_009</th>\n",
       "      <th>ef_000</th>\n",
       "      <th>eg_000</th>\n",
       "    </tr>\n",
       "  </thead>\n",
       "  <tbody>\n",
       "    <tr>\n",
       "      <th>0</th>\n",
       "      <td>neg</td>\n",
       "      <td>76698</td>\n",
       "      <td>2130706438</td>\n",
       "      <td>0</td>\n",
       "      <td>0</td>\n",
       "      <td>0</td>\n",
       "      <td>0</td>\n",
       "      <td>0</td>\n",
       "      <td>0</td>\n",
       "      <td>37250</td>\n",
       "      <td>...</td>\n",
       "      <td>1240520</td>\n",
       "      <td>493384</td>\n",
       "      <td>721044</td>\n",
       "      <td>469792</td>\n",
       "      <td>339156</td>\n",
       "      <td>157956</td>\n",
       "      <td>73224</td>\n",
       "      <td>0</td>\n",
       "      <td>0</td>\n",
       "      <td>0</td>\n",
       "    </tr>\n",
       "    <tr>\n",
       "      <th>1</th>\n",
       "      <td>neg</td>\n",
       "      <td>33058</td>\n",
       "      <td>0</td>\n",
       "      <td>0</td>\n",
       "      <td>0</td>\n",
       "      <td>0</td>\n",
       "      <td>0</td>\n",
       "      <td>0</td>\n",
       "      <td>0</td>\n",
       "      <td>18254</td>\n",
       "      <td>...</td>\n",
       "      <td>421400</td>\n",
       "      <td>178064</td>\n",
       "      <td>293306</td>\n",
       "      <td>245416</td>\n",
       "      <td>133654</td>\n",
       "      <td>81140</td>\n",
       "      <td>97576</td>\n",
       "      <td>1500</td>\n",
       "      <td>0</td>\n",
       "      <td>0</td>\n",
       "    </tr>\n",
       "    <tr>\n",
       "      <th>2</th>\n",
       "      <td>neg</td>\n",
       "      <td>41040</td>\n",
       "      <td>228</td>\n",
       "      <td>0</td>\n",
       "      <td>0</td>\n",
       "      <td>0</td>\n",
       "      <td>0</td>\n",
       "      <td>0</td>\n",
       "      <td>0</td>\n",
       "      <td>1648</td>\n",
       "      <td>...</td>\n",
       "      <td>277378</td>\n",
       "      <td>159812</td>\n",
       "      <td>423992</td>\n",
       "      <td>409564</td>\n",
       "      <td>320746</td>\n",
       "      <td>158022</td>\n",
       "      <td>95128</td>\n",
       "      <td>514</td>\n",
       "      <td>0</td>\n",
       "      <td>0</td>\n",
       "    </tr>\n",
       "    <tr>\n",
       "      <th>3</th>\n",
       "      <td>neg</td>\n",
       "      <td>12</td>\n",
       "      <td>70</td>\n",
       "      <td>0</td>\n",
       "      <td>10</td>\n",
       "      <td>0</td>\n",
       "      <td>0</td>\n",
       "      <td>0</td>\n",
       "      <td>318</td>\n",
       "      <td>2212</td>\n",
       "      <td>...</td>\n",
       "      <td>240</td>\n",
       "      <td>46</td>\n",
       "      <td>58</td>\n",
       "      <td>44</td>\n",
       "      <td>10</td>\n",
       "      <td>0</td>\n",
       "      <td>0</td>\n",
       "      <td>0</td>\n",
       "      <td>4</td>\n",
       "      <td>32</td>\n",
       "    </tr>\n",
       "    <tr>\n",
       "      <th>4</th>\n",
       "      <td>neg</td>\n",
       "      <td>60874</td>\n",
       "      <td>1368</td>\n",
       "      <td>0</td>\n",
       "      <td>0</td>\n",
       "      <td>0</td>\n",
       "      <td>0</td>\n",
       "      <td>0</td>\n",
       "      <td>0</td>\n",
       "      <td>43752</td>\n",
       "      <td>...</td>\n",
       "      <td>622012</td>\n",
       "      <td>229790</td>\n",
       "      <td>405298</td>\n",
       "      <td>347188</td>\n",
       "      <td>286954</td>\n",
       "      <td>311560</td>\n",
       "      <td>433954</td>\n",
       "      <td>1218</td>\n",
       "      <td>0</td>\n",
       "      <td>0</td>\n",
       "    </tr>\n",
       "  </tbody>\n",
       "</table>\n",
       "<p>5 rows × 147 columns</p>\n",
       "</div>"
      ],
      "text/plain": [
       "  class  aa_000      ac_000 ae_000 af_000 ag_000 ag_001 ag_002 ag_003 ag_004  \\\n",
       "0   neg   76698  2130706438      0      0      0      0      0      0  37250   \n",
       "1   neg   33058           0      0      0      0      0      0      0  18254   \n",
       "2   neg   41040         228      0      0      0      0      0      0   1648   \n",
       "3   neg      12          70      0     10      0      0      0    318   2212   \n",
       "4   neg   60874        1368      0      0      0      0      0      0  43752   \n",
       "\n",
       "   ...     ee_002  ee_003  ee_004  ee_005  ee_006  ee_007  ee_008 ee_009  \\\n",
       "0  ...    1240520  493384  721044  469792  339156  157956   73224      0   \n",
       "1  ...     421400  178064  293306  245416  133654   81140   97576   1500   \n",
       "2  ...     277378  159812  423992  409564  320746  158022   95128    514   \n",
       "3  ...        240      46      58      44      10       0       0      0   \n",
       "4  ...     622012  229790  405298  347188  286954  311560  433954   1218   \n",
       "\n",
       "  ef_000 eg_000  \n",
       "0      0      0  \n",
       "1      0      0  \n",
       "2      0      0  \n",
       "3      4     32  \n",
       "4      0      0  \n",
       "\n",
       "[5 rows x 147 columns]"
      ]
     },
     "execution_count": 16,
     "metadata": {},
     "output_type": "execute_result"
    }
   ],
   "source": [
    "data2.head()"
   ]
  },
  {
   "cell_type": "code",
   "execution_count": 17,
   "id": "7b98b24b",
   "metadata": {},
   "outputs": [],
   "source": [
    "# By observing the data most of the columns looks like numerical but datatype of these values appearing as object type\n",
    "# Converting the actual numerical values to numerical remaining unwanted charecters will be converted to nulls.\n",
    "#pd.to_numeric(data, errors='coerce')\n",
    "data3 = data2.apply(pd.to_numeric, errors='ignore')"
   ]
  },
  {
   "cell_type": "code",
   "execution_count": 18,
   "id": "6e8fbe0d",
   "metadata": {},
   "outputs": [
    {
     "name": "stdout",
     "output_type": "stream",
     "text": [
      "<class 'pandas.core.frame.DataFrame'>\n",
      "RangeIndex: 60000 entries, 0 to 59999\n",
      "Columns: 147 entries, class to eg_000\n",
      "dtypes: float64(145), int64(1), object(1)\n",
      "memory usage: 67.3+ MB\n"
     ]
    }
   ],
   "source": [
    "data3.info()"
   ]
  },
  {
   "cell_type": "code",
   "execution_count": 19,
   "id": "0cd34e68",
   "metadata": {},
   "outputs": [
    {
     "data": {
      "text/html": [
       "<div>\n",
       "<style scoped>\n",
       "    .dataframe tbody tr th:only-of-type {\n",
       "        vertical-align: middle;\n",
       "    }\n",
       "\n",
       "    .dataframe tbody tr th {\n",
       "        vertical-align: top;\n",
       "    }\n",
       "\n",
       "    .dataframe thead th {\n",
       "        text-align: right;\n",
       "    }\n",
       "</style>\n",
       "<table border=\"1\" class=\"dataframe\">\n",
       "  <thead>\n",
       "    <tr style=\"text-align: right;\">\n",
       "      <th></th>\n",
       "      <th>class</th>\n",
       "      <th>aa_000</th>\n",
       "      <th>ac_000</th>\n",
       "      <th>ae_000</th>\n",
       "      <th>af_000</th>\n",
       "      <th>ag_000</th>\n",
       "      <th>ag_001</th>\n",
       "      <th>ag_002</th>\n",
       "      <th>ag_003</th>\n",
       "      <th>ag_004</th>\n",
       "      <th>...</th>\n",
       "      <th>ee_002</th>\n",
       "      <th>ee_003</th>\n",
       "      <th>ee_004</th>\n",
       "      <th>ee_005</th>\n",
       "      <th>ee_006</th>\n",
       "      <th>ee_007</th>\n",
       "      <th>ee_008</th>\n",
       "      <th>ee_009</th>\n",
       "      <th>ef_000</th>\n",
       "      <th>eg_000</th>\n",
       "    </tr>\n",
       "  </thead>\n",
       "  <tbody>\n",
       "    <tr>\n",
       "      <th>0</th>\n",
       "      <td>neg</td>\n",
       "      <td>76698</td>\n",
       "      <td>2.130706e+09</td>\n",
       "      <td>0.0</td>\n",
       "      <td>0.0</td>\n",
       "      <td>0.0</td>\n",
       "      <td>0.0</td>\n",
       "      <td>0.0</td>\n",
       "      <td>0.0</td>\n",
       "      <td>37250.0</td>\n",
       "      <td>...</td>\n",
       "      <td>1240520.0</td>\n",
       "      <td>493384.0</td>\n",
       "      <td>721044.0</td>\n",
       "      <td>469792.0</td>\n",
       "      <td>339156.0</td>\n",
       "      <td>157956.0</td>\n",
       "      <td>73224.0</td>\n",
       "      <td>0.0</td>\n",
       "      <td>0.0</td>\n",
       "      <td>0.0</td>\n",
       "    </tr>\n",
       "    <tr>\n",
       "      <th>1</th>\n",
       "      <td>neg</td>\n",
       "      <td>33058</td>\n",
       "      <td>0.000000e+00</td>\n",
       "      <td>0.0</td>\n",
       "      <td>0.0</td>\n",
       "      <td>0.0</td>\n",
       "      <td>0.0</td>\n",
       "      <td>0.0</td>\n",
       "      <td>0.0</td>\n",
       "      <td>18254.0</td>\n",
       "      <td>...</td>\n",
       "      <td>421400.0</td>\n",
       "      <td>178064.0</td>\n",
       "      <td>293306.0</td>\n",
       "      <td>245416.0</td>\n",
       "      <td>133654.0</td>\n",
       "      <td>81140.0</td>\n",
       "      <td>97576.0</td>\n",
       "      <td>1500.0</td>\n",
       "      <td>0.0</td>\n",
       "      <td>0.0</td>\n",
       "    </tr>\n",
       "    <tr>\n",
       "      <th>2</th>\n",
       "      <td>neg</td>\n",
       "      <td>41040</td>\n",
       "      <td>2.280000e+02</td>\n",
       "      <td>0.0</td>\n",
       "      <td>0.0</td>\n",
       "      <td>0.0</td>\n",
       "      <td>0.0</td>\n",
       "      <td>0.0</td>\n",
       "      <td>0.0</td>\n",
       "      <td>1648.0</td>\n",
       "      <td>...</td>\n",
       "      <td>277378.0</td>\n",
       "      <td>159812.0</td>\n",
       "      <td>423992.0</td>\n",
       "      <td>409564.0</td>\n",
       "      <td>320746.0</td>\n",
       "      <td>158022.0</td>\n",
       "      <td>95128.0</td>\n",
       "      <td>514.0</td>\n",
       "      <td>0.0</td>\n",
       "      <td>0.0</td>\n",
       "    </tr>\n",
       "    <tr>\n",
       "      <th>3</th>\n",
       "      <td>neg</td>\n",
       "      <td>12</td>\n",
       "      <td>7.000000e+01</td>\n",
       "      <td>0.0</td>\n",
       "      <td>10.0</td>\n",
       "      <td>0.0</td>\n",
       "      <td>0.0</td>\n",
       "      <td>0.0</td>\n",
       "      <td>318.0</td>\n",
       "      <td>2212.0</td>\n",
       "      <td>...</td>\n",
       "      <td>240.0</td>\n",
       "      <td>46.0</td>\n",
       "      <td>58.0</td>\n",
       "      <td>44.0</td>\n",
       "      <td>10.0</td>\n",
       "      <td>0.0</td>\n",
       "      <td>0.0</td>\n",
       "      <td>0.0</td>\n",
       "      <td>4.0</td>\n",
       "      <td>32.0</td>\n",
       "    </tr>\n",
       "    <tr>\n",
       "      <th>4</th>\n",
       "      <td>neg</td>\n",
       "      <td>60874</td>\n",
       "      <td>1.368000e+03</td>\n",
       "      <td>0.0</td>\n",
       "      <td>0.0</td>\n",
       "      <td>0.0</td>\n",
       "      <td>0.0</td>\n",
       "      <td>0.0</td>\n",
       "      <td>0.0</td>\n",
       "      <td>43752.0</td>\n",
       "      <td>...</td>\n",
       "      <td>622012.0</td>\n",
       "      <td>229790.0</td>\n",
       "      <td>405298.0</td>\n",
       "      <td>347188.0</td>\n",
       "      <td>286954.0</td>\n",
       "      <td>311560.0</td>\n",
       "      <td>433954.0</td>\n",
       "      <td>1218.0</td>\n",
       "      <td>0.0</td>\n",
       "      <td>0.0</td>\n",
       "    </tr>\n",
       "  </tbody>\n",
       "</table>\n",
       "<p>5 rows × 147 columns</p>\n",
       "</div>"
      ],
      "text/plain": [
       "  class  aa_000        ac_000  ae_000  af_000  ag_000  ag_001  ag_002  ag_003  \\\n",
       "0   neg   76698  2.130706e+09     0.0     0.0     0.0     0.0     0.0     0.0   \n",
       "1   neg   33058  0.000000e+00     0.0     0.0     0.0     0.0     0.0     0.0   \n",
       "2   neg   41040  2.280000e+02     0.0     0.0     0.0     0.0     0.0     0.0   \n",
       "3   neg      12  7.000000e+01     0.0    10.0     0.0     0.0     0.0   318.0   \n",
       "4   neg   60874  1.368000e+03     0.0     0.0     0.0     0.0     0.0     0.0   \n",
       "\n",
       "    ag_004   ...       ee_002    ee_003    ee_004    ee_005    ee_006  \\\n",
       "0  37250.0   ...    1240520.0  493384.0  721044.0  469792.0  339156.0   \n",
       "1  18254.0   ...     421400.0  178064.0  293306.0  245416.0  133654.0   \n",
       "2   1648.0   ...     277378.0  159812.0  423992.0  409564.0  320746.0   \n",
       "3   2212.0   ...        240.0      46.0      58.0      44.0      10.0   \n",
       "4  43752.0   ...     622012.0  229790.0  405298.0  347188.0  286954.0   \n",
       "\n",
       "     ee_007    ee_008  ee_009  ef_000  eg_000  \n",
       "0  157956.0   73224.0     0.0     0.0     0.0  \n",
       "1   81140.0   97576.0  1500.0     0.0     0.0  \n",
       "2  158022.0   95128.0   514.0     0.0     0.0  \n",
       "3       0.0       0.0     0.0     4.0    32.0  \n",
       "4  311560.0  433954.0  1218.0     0.0     0.0  \n",
       "\n",
       "[5 rows x 147 columns]"
      ]
     },
     "execution_count": 19,
     "metadata": {},
     "output_type": "execute_result"
    }
   ],
   "source": [
    "data3.head()\n",
    "## We can observe data was almost cleansed data ,Data conversion of numerical columns is performed,\n",
    "# 160 - float64 columns, 1 - int64 column , 1 object column(Target)"
   ]
  },
  {
   "cell_type": "markdown",
   "id": "9fe463c8",
   "metadata": {},
   "source": [
    "# Missing data Treatment"
   ]
  },
  {
   "cell_type": "code",
   "execution_count": 20,
   "id": "a1f2df43",
   "metadata": {},
   "outputs": [],
   "source": [
    "## Getting the columns with Null data\n",
    "null_columns = data3.columns[data3.isnull().sum()/len(data3)*100>0]"
   ]
  },
  {
   "cell_type": "code",
   "execution_count": 21,
   "id": "1b2f5176",
   "metadata": {},
   "outputs": [
    {
     "data": {
      "text/plain": [
       "145"
      ]
     },
     "execution_count": 21,
     "metadata": {},
     "output_type": "execute_result"
    }
   ],
   "source": [
    "len(null_columns)"
   ]
  },
  {
   "cell_type": "code",
   "execution_count": 22,
   "id": "ea5da96c",
   "metadata": {},
   "outputs": [
    {
     "data": {
      "text/html": [
       "<div>\n",
       "<style scoped>\n",
       "    .dataframe tbody tr th:only-of-type {\n",
       "        vertical-align: middle;\n",
       "    }\n",
       "\n",
       "    .dataframe tbody tr th {\n",
       "        vertical-align: top;\n",
       "    }\n",
       "\n",
       "    .dataframe thead th {\n",
       "        text-align: right;\n",
       "    }\n",
       "</style>\n",
       "<table border=\"1\" class=\"dataframe\">\n",
       "  <thead>\n",
       "    <tr style=\"text-align: right;\">\n",
       "      <th></th>\n",
       "      <th>aa_000</th>\n",
       "      <th>ac_000</th>\n",
       "      <th>ae_000</th>\n",
       "      <th>af_000</th>\n",
       "      <th>ag_000</th>\n",
       "      <th>ag_001</th>\n",
       "      <th>ag_002</th>\n",
       "      <th>ag_003</th>\n",
       "      <th>ag_004</th>\n",
       "      <th>ag_005</th>\n",
       "      <th>...</th>\n",
       "      <th>ee_002</th>\n",
       "      <th>ee_003</th>\n",
       "      <th>ee_004</th>\n",
       "      <th>ee_005</th>\n",
       "      <th>ee_006</th>\n",
       "      <th>ee_007</th>\n",
       "      <th>ee_008</th>\n",
       "      <th>ee_009</th>\n",
       "      <th>ef_000</th>\n",
       "      <th>eg_000</th>\n",
       "    </tr>\n",
       "  </thead>\n",
       "  <tbody>\n",
       "    <tr>\n",
       "      <th>count</th>\n",
       "      <td>60000.000</td>\n",
       "      <td>56665.000</td>\n",
       "      <td>57500.000</td>\n",
       "      <td>57500.000</td>\n",
       "      <td>59329.000</td>\n",
       "      <td>59329.000</td>\n",
       "      <td>59329.000</td>\n",
       "      <td>59329.000</td>\n",
       "      <td>59329.000</td>\n",
       "      <td>59329.000</td>\n",
       "      <td>...</td>\n",
       "      <td>59329.000</td>\n",
       "      <td>59329.000</td>\n",
       "      <td>59329.000</td>\n",
       "      <td>59329.000</td>\n",
       "      <td>59329.000</td>\n",
       "      <td>59329.000</td>\n",
       "      <td>59329.000</td>\n",
       "      <td>59329.000</td>\n",
       "      <td>57276.000</td>\n",
       "      <td>57277.000</td>\n",
       "    </tr>\n",
       "    <tr>\n",
       "      <th>mean</th>\n",
       "      <td>59336.500</td>\n",
       "      <td>356014263.031</td>\n",
       "      <td>6.819</td>\n",
       "      <td>11.007</td>\n",
       "      <td>221.636</td>\n",
       "      <td>975.722</td>\n",
       "      <td>8606.015</td>\n",
       "      <td>88591.281</td>\n",
       "      <td>437096.632</td>\n",
       "      <td>1108373.830</td>\n",
       "      <td>...</td>\n",
       "      <td>445489.728</td>\n",
       "      <td>211126.447</td>\n",
       "      <td>445734.306</td>\n",
       "      <td>393946.198</td>\n",
       "      <td>333058.240</td>\n",
       "      <td>346271.430</td>\n",
       "      <td>138729.983</td>\n",
       "      <td>8388.915</td>\n",
       "      <td>0.091</td>\n",
       "      <td>0.213</td>\n",
       "    </tr>\n",
       "    <tr>\n",
       "      <th>std</th>\n",
       "      <td>145430.057</td>\n",
       "      <td>794874918.480</td>\n",
       "      <td>161.543</td>\n",
       "      <td>209.793</td>\n",
       "      <td>20478.464</td>\n",
       "      <td>34200.530</td>\n",
       "      <td>150322.029</td>\n",
       "      <td>761731.190</td>\n",
       "      <td>2374281.890</td>\n",
       "      <td>3262607.274</td>\n",
       "      <td>...</td>\n",
       "      <td>1155539.821</td>\n",
       "      <td>543318.817</td>\n",
       "      <td>1168313.931</td>\n",
       "      <td>1121044.407</td>\n",
       "      <td>1069159.697</td>\n",
       "      <td>1728056.007</td>\n",
       "      <td>449510.045</td>\n",
       "      <td>47470.432</td>\n",
       "      <td>4.369</td>\n",
       "      <td>8.831</td>\n",
       "    </tr>\n",
       "    <tr>\n",
       "      <th>min</th>\n",
       "      <td>0.000</td>\n",
       "      <td>0.000</td>\n",
       "      <td>0.000</td>\n",
       "      <td>0.000</td>\n",
       "      <td>0.000</td>\n",
       "      <td>0.000</td>\n",
       "      <td>0.000</td>\n",
       "      <td>0.000</td>\n",
       "      <td>0.000</td>\n",
       "      <td>0.000</td>\n",
       "      <td>...</td>\n",
       "      <td>0.000</td>\n",
       "      <td>0.000</td>\n",
       "      <td>0.000</td>\n",
       "      <td>0.000</td>\n",
       "      <td>0.000</td>\n",
       "      <td>0.000</td>\n",
       "      <td>0.000</td>\n",
       "      <td>0.000</td>\n",
       "      <td>0.000</td>\n",
       "      <td>0.000</td>\n",
       "    </tr>\n",
       "    <tr>\n",
       "      <th>25%</th>\n",
       "      <td>834.000</td>\n",
       "      <td>16.000</td>\n",
       "      <td>0.000</td>\n",
       "      <td>0.000</td>\n",
       "      <td>0.000</td>\n",
       "      <td>0.000</td>\n",
       "      <td>0.000</td>\n",
       "      <td>0.000</td>\n",
       "      <td>308.000</td>\n",
       "      <td>13834.000</td>\n",
       "      <td>...</td>\n",
       "      <td>2936.000</td>\n",
       "      <td>1166.000</td>\n",
       "      <td>2700.000</td>\n",
       "      <td>3584.000</td>\n",
       "      <td>512.000</td>\n",
       "      <td>110.000</td>\n",
       "      <td>0.000</td>\n",
       "      <td>0.000</td>\n",
       "      <td>0.000</td>\n",
       "      <td>0.000</td>\n",
       "    </tr>\n",
       "    <tr>\n",
       "      <th>50%</th>\n",
       "      <td>30776.000</td>\n",
       "      <td>152.000</td>\n",
       "      <td>0.000</td>\n",
       "      <td>0.000</td>\n",
       "      <td>0.000</td>\n",
       "      <td>0.000</td>\n",
       "      <td>0.000</td>\n",
       "      <td>0.000</td>\n",
       "      <td>3672.000</td>\n",
       "      <td>176020.000</td>\n",
       "      <td>...</td>\n",
       "      <td>233796.000</td>\n",
       "      <td>112086.000</td>\n",
       "      <td>221518.000</td>\n",
       "      <td>189988.000</td>\n",
       "      <td>92432.000</td>\n",
       "      <td>41098.000</td>\n",
       "      <td>3812.000</td>\n",
       "      <td>0.000</td>\n",
       "      <td>0.000</td>\n",
       "      <td>0.000</td>\n",
       "    </tr>\n",
       "    <tr>\n",
       "      <th>75%</th>\n",
       "      <td>48668.000</td>\n",
       "      <td>964.000</td>\n",
       "      <td>0.000</td>\n",
       "      <td>0.000</td>\n",
       "      <td>0.000</td>\n",
       "      <td>0.000</td>\n",
       "      <td>0.000</td>\n",
       "      <td>0.000</td>\n",
       "      <td>49522.000</td>\n",
       "      <td>913964.000</td>\n",
       "      <td>...</td>\n",
       "      <td>438396.000</td>\n",
       "      <td>218232.000</td>\n",
       "      <td>466614.000</td>\n",
       "      <td>403222.000</td>\n",
       "      <td>275094.000</td>\n",
       "      <td>167814.000</td>\n",
       "      <td>139724.000</td>\n",
       "      <td>2028.000</td>\n",
       "      <td>0.000</td>\n",
       "      <td>0.000</td>\n",
       "    </tr>\n",
       "    <tr>\n",
       "      <th>max</th>\n",
       "      <td>2746564.000</td>\n",
       "      <td>2130706796.000</td>\n",
       "      <td>21050.000</td>\n",
       "      <td>20070.000</td>\n",
       "      <td>3376892.000</td>\n",
       "      <td>4109372.000</td>\n",
       "      <td>10552856.000</td>\n",
       "      <td>63402074.000</td>\n",
       "      <td>228830570.000</td>\n",
       "      <td>179187978.000</td>\n",
       "      <td>...</td>\n",
       "      <td>77933926.000</td>\n",
       "      <td>37758390.000</td>\n",
       "      <td>97152378.000</td>\n",
       "      <td>57435236.000</td>\n",
       "      <td>31607814.000</td>\n",
       "      <td>119580108.000</td>\n",
       "      <td>19267396.000</td>\n",
       "      <td>3810078.000</td>\n",
       "      <td>482.000</td>\n",
       "      <td>1146.000</td>\n",
       "    </tr>\n",
       "  </tbody>\n",
       "</table>\n",
       "<p>8 rows × 146 columns</p>\n",
       "</div>"
      ],
      "text/plain": [
       "           aa_000         ac_000    ae_000    af_000      ag_000      ag_001  \\\n",
       "count   60000.000      56665.000 57500.000 57500.000   59329.000   59329.000   \n",
       "mean    59336.500  356014263.031     6.819    11.007     221.636     975.722   \n",
       "std    145430.057  794874918.480   161.543   209.793   20478.464   34200.530   \n",
       "min         0.000          0.000     0.000     0.000       0.000       0.000   \n",
       "25%       834.000         16.000     0.000     0.000       0.000       0.000   \n",
       "50%     30776.000        152.000     0.000     0.000       0.000       0.000   \n",
       "75%     48668.000        964.000     0.000     0.000       0.000       0.000   \n",
       "max   2746564.000 2130706796.000 21050.000 20070.000 3376892.000 4109372.000   \n",
       "\n",
       "            ag_002       ag_003        ag_004        ag_005    ...     \\\n",
       "count    59329.000    59329.000     59329.000     59329.000    ...      \n",
       "mean      8606.015    88591.281    437096.632   1108373.830    ...      \n",
       "std     150322.029   761731.190   2374281.890   3262607.274    ...      \n",
       "min          0.000        0.000         0.000         0.000    ...      \n",
       "25%          0.000        0.000       308.000     13834.000    ...      \n",
       "50%          0.000        0.000      3672.000    176020.000    ...      \n",
       "75%          0.000        0.000     49522.000    913964.000    ...      \n",
       "max   10552856.000 63402074.000 228830570.000 179187978.000    ...      \n",
       "\n",
       "            ee_002       ee_003       ee_004       ee_005       ee_006  \\\n",
       "count    59329.000    59329.000    59329.000    59329.000    59329.000   \n",
       "mean    445489.728   211126.447   445734.306   393946.198   333058.240   \n",
       "std    1155539.821   543318.817  1168313.931  1121044.407  1069159.697   \n",
       "min          0.000        0.000        0.000        0.000        0.000   \n",
       "25%       2936.000     1166.000     2700.000     3584.000      512.000   \n",
       "50%     233796.000   112086.000   221518.000   189988.000    92432.000   \n",
       "75%     438396.000   218232.000   466614.000   403222.000   275094.000   \n",
       "max   77933926.000 37758390.000 97152378.000 57435236.000 31607814.000   \n",
       "\n",
       "             ee_007       ee_008      ee_009    ef_000    eg_000  \n",
       "count     59329.000    59329.000   59329.000 57276.000 57277.000  \n",
       "mean     346271.430   138729.983    8388.915     0.091     0.213  \n",
       "std     1728056.007   449510.045   47470.432     4.369     8.831  \n",
       "min           0.000        0.000       0.000     0.000     0.000  \n",
       "25%         110.000        0.000       0.000     0.000     0.000  \n",
       "50%       41098.000     3812.000       0.000     0.000     0.000  \n",
       "75%      167814.000   139724.000    2028.000     0.000     0.000  \n",
       "max   119580108.000 19267396.000 3810078.000   482.000  1146.000  \n",
       "\n",
       "[8 rows x 146 columns]"
      ]
     },
     "execution_count": 22,
     "metadata": {},
     "output_type": "execute_result"
    }
   ],
   "source": [
    "pd.set_option('display.float_format', lambda x: '%.3f' % x)\n",
    "data3.describe()\n",
    "## in most of the columns data is skewed ,standard deviation is high"
   ]
  },
  {
   "cell_type": "code",
   "execution_count": 23,
   "id": "073092e9",
   "metadata": {},
   "outputs": [
    {
     "name": "stdout",
     "output_type": "stream",
     "text": [
      "146\n"
     ]
    }
   ],
   "source": [
    "num_column_names = data3.select_dtypes(include=[np.number]).columns\n",
    "\n",
    "print(len(num_column_names))"
   ]
  },
  {
   "cell_type": "code",
   "execution_count": 24,
   "id": "22a4e71b",
   "metadata": {},
   "outputs": [],
   "source": [
    "for column in data3[num_column_names]:\n",
    "    if data3[column].isnull().any():\n",
    "        data3[column]=data3[column].fillna(data3[column].median())"
   ]
  },
  {
   "cell_type": "code",
   "execution_count": 25,
   "id": "c939a730",
   "metadata": {},
   "outputs": [
    {
     "data": {
      "text/plain": [
       "(60000, 147)"
      ]
     },
     "execution_count": 25,
     "metadata": {},
     "output_type": "execute_result"
    }
   ],
   "source": [
    "data3.shape"
   ]
  },
  {
   "cell_type": "code",
   "execution_count": 26,
   "id": "c33b736d",
   "metadata": {},
   "outputs": [
    {
     "name": "stdout",
     "output_type": "stream",
     "text": [
      "<class 'pandas.core.frame.DataFrame'>\n",
      "RangeIndex: 60000 entries, 0 to 59999\n",
      "Columns: 147 entries, class to eg_000\n",
      "dtypes: float64(145), int64(1), object(1)\n",
      "memory usage: 67.3+ MB\n"
     ]
    }
   ],
   "source": [
    "data3.info()"
   ]
  },
  {
   "cell_type": "code",
   "execution_count": 27,
   "id": "a1536465",
   "metadata": {},
   "outputs": [
    {
     "data": {
      "text/plain": [
       "False"
      ]
     },
     "execution_count": 27,
     "metadata": {},
     "output_type": "execute_result"
    }
   ],
   "source": [
    "data3.isnull().sum().any()\n",
    "## So the Data was cleansed and ready for Analysis."
   ]
  },
  {
   "cell_type": "code",
   "execution_count": 28,
   "id": "c58c1d8b",
   "metadata": {},
   "outputs": [
    {
     "name": "stdout",
     "output_type": "stream",
     "text": [
      "<class 'pandas.core.frame.DataFrame'>\n",
      "RangeIndex: 60000 entries, 0 to 59999\n",
      "Columns: 147 entries, class to eg_000\n",
      "dtypes: float64(145), int64(1), object(1)\n",
      "memory usage: 67.3+ MB\n"
     ]
    }
   ],
   "source": [
    "data3.info()"
   ]
  },
  {
   "cell_type": "code",
   "execution_count": 29,
   "id": "98fa5b6b",
   "metadata": {},
   "outputs": [
    {
     "data": {
      "image/png": "[encoded data removed]",
      "text/plain": [
       "<Figure size 432x288 with 2 Axes>"
      ]
     },
     "metadata": {
      "needs_background": "light"
     },
     "output_type": "display_data"
    }
   ],
   "source": [
    "## Checking multicollinearity\n",
    "\n",
    "# import modules\n",
    "import matplotlib.pyplot as plt\n",
    "import pandas as pd\n",
    "import seaborn as sns\n",
    "# plotting correlation heatmap\n",
    "dataplot=sns.heatmap(data3.corr())\n",
    "  \n",
    "# displaying heatmap\n",
    "plt.show()"
   ]
  },
  {
   "cell_type": "code",
   "execution_count": 94,
   "id": "ca60d4b7",
   "metadata": {},
   "outputs": [
    {
     "data": {
      "text/plain": [
       "(60000, 147)"
      ]
     },
     "execution_count": 94,
     "metadata": {},
     "output_type": "execute_result"
    }
   ],
   "source": [
    "data3.shape"
   ]
  },
  {
   "cell_type": "code",
   "execution_count": 97,
   "id": "4d5384bc",
   "metadata": {},
   "outputs": [],
   "source": [
    "data3 = data3.reset_index(drop=True)"
   ]
  },
  {
   "cell_type": "code",
   "execution_count": 100,
   "id": "9fde8ffa",
   "metadata": {},
   "outputs": [
    {
     "data": {
      "text/html": [
       "<div>\n",
       "<style scoped>\n",
       "    .dataframe tbody tr th:only-of-type {\n",
       "        vertical-align: middle;\n",
       "    }\n",
       "\n",
       "    .dataframe tbody tr th {\n",
       "        vertical-align: top;\n",
       "    }\n",
       "\n",
       "    .dataframe thead th {\n",
       "        text-align: right;\n",
       "    }\n",
       "</style>\n",
       "<table border=\"1\" class=\"dataframe\">\n",
       "  <thead>\n",
       "    <tr style=\"text-align: right;\">\n",
       "      <th></th>\n",
       "      <th>aa_000</th>\n",
       "    </tr>\n",
       "  </thead>\n",
       "  <tbody>\n",
       "    <tr>\n",
       "      <th>aa_000</th>\n",
       "      <td>1.000</td>\n",
       "    </tr>\n",
       "  </tbody>\n",
       "</table>\n",
       "</div>"
      ],
      "text/plain": [
       "        aa_000\n",
       "aa_000   1.000"
      ]
     },
     "execution_count": 100,
     "metadata": {},
     "output_type": "execute_result"
    }
   ],
   "source": [
    "corr = data3.iloc[:,1:].corr()\n",
    "corr"
   ]
  },
  {
   "cell_type": "code",
   "execution_count": 101,
   "id": "6d22d28f",
   "metadata": {},
   "outputs": [
    {
     "name": "stdout",
     "output_type": "stream",
     "text": [
      "<class 'pandas.core.frame.DataFrame'>\n",
      "RangeIndex: 60000 entries, 0 to 59999\n",
      "Columns: 147 entries, class to eg_000\n",
      "dtypes: int64(1), object(146)\n",
      "memory usage: 67.3+ MB\n"
     ]
    }
   ],
   "source": [
    "data3.info()"
   ]
  },
  {
   "cell_type": "code",
   "execution_count": null,
   "id": "ce1eddac",
   "metadata": {},
   "outputs": [],
   "source": []
  },
  {
   "cell_type": "code",
   "execution_count": 34,
   "id": "c6136fd1",
   "metadata": {},
   "outputs": [
    {
     "data": {
      "image/png": "[encoded data removed]",
      "text/plain": [
       "<Figure size 1080x1080 with 2 Axes>"
      ]
     },
     "metadata": {},
     "output_type": "display_data"
    }
   ],
   "source": [
    "\n",
    "corr = data3.iloc[:,1:].corr()\n",
    "f, ax = plt.subplots(figsize=(15, 15))\n",
    "ax = sns.heatmap(\n",
    "    corr, \n",
    "    vmin=-1, vmax=1, center=0,\n",
    "    cmap=sns.diverging_palette(20, 220, n=200),\n",
    "    square=True\n",
    ")\n",
    "ax.set_xticklabels(\n",
    "    ax.get_xticklabels(),\n",
    "    rotation=45,\n",
    "    horizontalalignment='right'\n",
    ");\n",
    "#sns.heatmap(corr, cmap='RdBu', vmin=-1, vmax=1, annot=True)"
   ]
  },
  {
   "cell_type": "code",
   "execution_count": 35,
   "id": "1a6f2b4f",
   "metadata": {},
   "outputs": [],
   "source": [
    "## Based on Correlogram there is multicollinearity issue between the independant variables,multi collinearity is a issue for linear models\n"
   ]
  },
  {
   "cell_type": "markdown",
   "id": "24bcccaf",
   "metadata": {},
   "source": [
    "## Modelling Methodology: \n",
    "### Perform Modeling on Linear,Tree based,Ensembling Models.\n",
    "### For the Comparison using one linear,one bagging ,one boosting,one Tree based Model.\n",
    "### Selected a single model from 4 modelling types i.e. Tree based,bagging,boosting,linear models namely Decision Tree Classifier,Random forest Classifier,Gradient boosting Classifier,Logistic Regression.\n",
    "### Linear models like Logistic Regression most likely influenced by Multi-Collinearity,So An Experiment by removing High multi collinear variables\n",
    "### Modelling By removing least influential features based on the feature importances"
   ]
  },
  {
   "cell_type": "code",
   "execution_count": 83,
   "id": "b604d544",
   "metadata": {},
   "outputs": [],
   "source": [
    "\n",
    "X = data3.iloc[:,1:]\n",
    "Y = data3.iloc[:,0]"
   ]
  },
  {
   "cell_type": "code",
   "execution_count": 86,
   "id": "5889ee4e",
   "metadata": {},
   "outputs": [],
   "source": [
    "# Encode the target column \n",
    "Lab_enc = {\"neg\":0,\"pos\":1}\n",
    "Y = Y.map(Lab_enc)"
   ]
  },
  {
   "cell_type": "code",
   "execution_count": 88,
   "id": "868da351",
   "metadata": {},
   "outputs": [
    {
     "data": {
      "text/plain": [
       "(60000, 146)"
      ]
     },
     "execution_count": 88,
     "metadata": {},
     "output_type": "execute_result"
    }
   ],
   "source": [
    "X.shape"
   ]
  },
  {
   "cell_type": "code",
   "execution_count": 101,
   "id": "99d07303",
   "metadata": {},
   "outputs": [],
   "source": [
    "## Standardizing full cleansed data\n",
    "Scaling = StandardScaler()\n",
    "X_scl =Scaling.fit_transform(X)"
   ]
  },
  {
   "cell_type": "code",
   "execution_count": 43,
   "id": "1e532363",
   "metadata": {},
   "outputs": [],
   "source": [
    "# from statsmodels.stats.outliers_influence import variance_inflation_factor\n",
    "\n",
    "# def calculate_vif_(X, thresh=100):\n",
    "#     cols = X.columns\n",
    "#     variables = np.arange(X.shape[1])\n",
    "#     dropped=True\n",
    "#     while dropped:\n",
    "#         dropped=False\n",
    "#         c = X[cols[variables]].values\n",
    "#         vif = [variance_inflation_factor(c, ix) for ix in np.arange(c.shape[1])]\n",
    "\n",
    "#         maxloc = vif.index(max(vif))\n",
    "#         if max(vif) > thresh:\n",
    "#             print('dropping \\'' + X[cols[variables]].columns[maxloc] + '\\' at index: ' + str(maxloc))\n",
    "#             variables = np.delete(variables, maxloc)\n",
    "#             dropped=True\n",
    "\n",
    "#     print('Remaining variables:')\n",
    "#     print(X.columns[variables])\n",
    "#     return X[cols[variables]]"
   ]
  },
  {
   "cell_type": "code",
   "execution_count": 73,
   "id": "561b4d9e",
   "metadata": {},
   "outputs": [],
   "source": [
    "\n",
    "def calc_VIF(x):\n",
    "  vif= pd.DataFrame()\n",
    "  vif['variables']=x.columns\n",
    "  vif[\"VIF\"]=[variance_inflation_factor(x.values,i) for i in range(x.shape[1])]\n",
    "\n",
    "  return(vif)"
   ]
  },
  {
   "cell_type": "code",
   "execution_count": 74,
   "id": "1ddf070d",
   "metadata": {},
   "outputs": [],
   "source": [
    "X_coll = calc_VIF(X)"
   ]
  },
  {
   "cell_type": "code",
   "execution_count": 49,
   "id": "9c862b9f",
   "metadata": {},
   "outputs": [
    {
     "data": {
      "text/plain": [
       "102"
      ]
     },
     "execution_count": 49,
     "metadata": {},
     "output_type": "execute_result"
    }
   ],
   "source": [
    "len(X_coll[X_coll['VIF']>5])"
   ]
  },
  {
   "cell_type": "code",
   "execution_count": 50,
   "id": "863bb763",
   "metadata": {},
   "outputs": [
    {
     "data": {
      "text/html": [
       "<div>\n",
       "<style scoped>\n",
       "    .dataframe tbody tr th:only-of-type {\n",
       "        vertical-align: middle;\n",
       "    }\n",
       "\n",
       "    .dataframe tbody tr th {\n",
       "        vertical-align: top;\n",
       "    }\n",
       "\n",
       "    .dataframe thead th {\n",
       "        text-align: right;\n",
       "    }\n",
       "</style>\n",
       "<table border=\"1\" class=\"dataframe\">\n",
       "  <thead>\n",
       "    <tr style=\"text-align: right;\">\n",
       "      <th></th>\n",
       "      <th>variables</th>\n",
       "      <th>VIF</th>\n",
       "    </tr>\n",
       "  </thead>\n",
       "  <tbody>\n",
       "    <tr>\n",
       "      <th>0</th>\n",
       "      <td>aa_000</td>\n",
       "      <td>420.886</td>\n",
       "    </tr>\n",
       "    <tr>\n",
       "      <th>4</th>\n",
       "      <td>ag_000</td>\n",
       "      <td>15.961</td>\n",
       "    </tr>\n",
       "    <tr>\n",
       "      <th>5</th>\n",
       "      <td>ag_001</td>\n",
       "      <td>46.531</td>\n",
       "    </tr>\n",
       "    <tr>\n",
       "      <th>6</th>\n",
       "      <td>ag_002</td>\n",
       "      <td>811.378</td>\n",
       "    </tr>\n",
       "    <tr>\n",
       "      <th>7</th>\n",
       "      <td>ag_003</td>\n",
       "      <td>20628.577</td>\n",
       "    </tr>\n",
       "    <tr>\n",
       "      <th>8</th>\n",
       "      <td>ag_004</td>\n",
       "      <td>200254.900</td>\n",
       "    </tr>\n",
       "    <tr>\n",
       "      <th>9</th>\n",
       "      <td>ag_005</td>\n",
       "      <td>378246.411</td>\n",
       "    </tr>\n",
       "    <tr>\n",
       "      <th>10</th>\n",
       "      <td>ag_006</td>\n",
       "      <td>542765.189</td>\n",
       "    </tr>\n",
       "    <tr>\n",
       "      <th>11</th>\n",
       "      <td>ag_007</td>\n",
       "      <td>71925.867</td>\n",
       "    </tr>\n",
       "    <tr>\n",
       "      <th>12</th>\n",
       "      <td>ag_008</td>\n",
       "      <td>1725.857</td>\n",
       "    </tr>\n",
       "    <tr>\n",
       "      <th>13</th>\n",
       "      <td>ag_009</td>\n",
       "      <td>1023.256</td>\n",
       "    </tr>\n",
       "    <tr>\n",
       "      <th>14</th>\n",
       "      <td>ah_000</td>\n",
       "      <td>11399.055</td>\n",
       "    </tr>\n",
       "    <tr>\n",
       "      <th>18</th>\n",
       "      <td>al_000</td>\n",
       "      <td>100.959</td>\n",
       "    </tr>\n",
       "    <tr>\n",
       "      <th>19</th>\n",
       "      <td>am_0</td>\n",
       "      <td>79.438</td>\n",
       "    </tr>\n",
       "    <tr>\n",
       "      <th>20</th>\n",
       "      <td>an_000</td>\n",
       "      <td>5246.916</td>\n",
       "    </tr>\n",
       "    <tr>\n",
       "      <th>21</th>\n",
       "      <td>ao_000</td>\n",
       "      <td>1157.831</td>\n",
       "    </tr>\n",
       "    <tr>\n",
       "      <th>22</th>\n",
       "      <td>ap_000</td>\n",
       "      <td>2091.549</td>\n",
       "    </tr>\n",
       "    <tr>\n",
       "      <th>23</th>\n",
       "      <td>aq_000</td>\n",
       "      <td>94.028</td>\n",
       "    </tr>\n",
       "    <tr>\n",
       "      <th>30</th>\n",
       "      <td>ay_000</td>\n",
       "      <td>18251.080</td>\n",
       "    </tr>\n",
       "    <tr>\n",
       "      <th>31</th>\n",
       "      <td>ay_001</td>\n",
       "      <td>25314.644</td>\n",
       "    </tr>\n",
       "    <tr>\n",
       "      <th>32</th>\n",
       "      <td>ay_002</td>\n",
       "      <td>16216.021</td>\n",
       "    </tr>\n",
       "    <tr>\n",
       "      <th>33</th>\n",
       "      <td>ay_003</td>\n",
       "      <td>3771.174</td>\n",
       "    </tr>\n",
       "    <tr>\n",
       "      <th>34</th>\n",
       "      <td>ay_004</td>\n",
       "      <td>11112.731</td>\n",
       "    </tr>\n",
       "    <tr>\n",
       "      <th>35</th>\n",
       "      <td>ay_005</td>\n",
       "      <td>171835.021</td>\n",
       "    </tr>\n",
       "    <tr>\n",
       "      <th>36</th>\n",
       "      <td>ay_006</td>\n",
       "      <td>950667.456</td>\n",
       "    </tr>\n",
       "    <tr>\n",
       "      <th>37</th>\n",
       "      <td>ay_007</td>\n",
       "      <td>2304887.333</td>\n",
       "    </tr>\n",
       "    <tr>\n",
       "      <th>38</th>\n",
       "      <td>ay_008</td>\n",
       "      <td>1408131.490</td>\n",
       "    </tr>\n",
       "    <tr>\n",
       "      <th>39</th>\n",
       "      <td>ay_009</td>\n",
       "      <td>849.280</td>\n",
       "    </tr>\n",
       "    <tr>\n",
       "      <th>40</th>\n",
       "      <td>az_000</td>\n",
       "      <td>832.128</td>\n",
       "    </tr>\n",
       "    <tr>\n",
       "      <th>41</th>\n",
       "      <td>az_001</td>\n",
       "      <td>182.609</td>\n",
       "    </tr>\n",
       "    <tr>\n",
       "      <th>...</th>\n",
       "      <td>...</td>\n",
       "      <td>...</td>\n",
       "    </tr>\n",
       "    <tr>\n",
       "      <th>98</th>\n",
       "      <td>cs_000</td>\n",
       "      <td>10.932</td>\n",
       "    </tr>\n",
       "    <tr>\n",
       "      <th>100</th>\n",
       "      <td>cs_002</td>\n",
       "      <td>60259.864</td>\n",
       "    </tr>\n",
       "    <tr>\n",
       "      <th>101</th>\n",
       "      <td>cs_003</td>\n",
       "      <td>50344.748</td>\n",
       "    </tr>\n",
       "    <tr>\n",
       "      <th>102</th>\n",
       "      <td>cs_004</td>\n",
       "      <td>175372.795</td>\n",
       "    </tr>\n",
       "    <tr>\n",
       "      <th>103</th>\n",
       "      <td>cs_005</td>\n",
       "      <td>1284883.120</td>\n",
       "    </tr>\n",
       "    <tr>\n",
       "      <th>104</th>\n",
       "      <td>cs_006</td>\n",
       "      <td>55671.479</td>\n",
       "    </tr>\n",
       "    <tr>\n",
       "      <th>105</th>\n",
       "      <td>cs_007</td>\n",
       "      <td>263.317</td>\n",
       "    </tr>\n",
       "    <tr>\n",
       "      <th>106</th>\n",
       "      <td>cs_008</td>\n",
       "      <td>6.015</td>\n",
       "    </tr>\n",
       "    <tr>\n",
       "      <th>107</th>\n",
       "      <td>cs_009</td>\n",
       "      <td>1386.360</td>\n",
       "    </tr>\n",
       "    <tr>\n",
       "      <th>116</th>\n",
       "      <td>dl_000</td>\n",
       "      <td>5.069</td>\n",
       "    </tr>\n",
       "    <tr>\n",
       "      <th>117</th>\n",
       "      <td>dm_000</td>\n",
       "      <td>5.177</td>\n",
       "    </tr>\n",
       "    <tr>\n",
       "      <th>118</th>\n",
       "      <td>dn_000</td>\n",
       "      <td>73.203</td>\n",
       "    </tr>\n",
       "    <tr>\n",
       "      <th>119</th>\n",
       "      <td>do_000</td>\n",
       "      <td>14.694</td>\n",
       "    </tr>\n",
       "    <tr>\n",
       "      <th>120</th>\n",
       "      <td>dp_000</td>\n",
       "      <td>13.616</td>\n",
       "    </tr>\n",
       "    <tr>\n",
       "      <th>123</th>\n",
       "      <td>ds_000</td>\n",
       "      <td>27.504</td>\n",
       "    </tr>\n",
       "    <tr>\n",
       "      <th>124</th>\n",
       "      <td>dt_000</td>\n",
       "      <td>24.408</td>\n",
       "    </tr>\n",
       "    <tr>\n",
       "      <th>125</th>\n",
       "      <td>du_000</td>\n",
       "      <td>5.123</td>\n",
       "    </tr>\n",
       "    <tr>\n",
       "      <th>126</th>\n",
       "      <td>dv_000</td>\n",
       "      <td>8.989</td>\n",
       "    </tr>\n",
       "    <tr>\n",
       "      <th>132</th>\n",
       "      <td>ec_00</td>\n",
       "      <td>10.642</td>\n",
       "    </tr>\n",
       "    <tr>\n",
       "      <th>133</th>\n",
       "      <td>ed_000</td>\n",
       "      <td>11.877</td>\n",
       "    </tr>\n",
       "    <tr>\n",
       "      <th>134</th>\n",
       "      <td>ee_000</td>\n",
       "      <td>108664.304</td>\n",
       "    </tr>\n",
       "    <tr>\n",
       "      <th>135</th>\n",
       "      <td>ee_001</td>\n",
       "      <td>122907.561</td>\n",
       "    </tr>\n",
       "    <tr>\n",
       "      <th>136</th>\n",
       "      <td>ee_002</td>\n",
       "      <td>24873.683</td>\n",
       "    </tr>\n",
       "    <tr>\n",
       "      <th>137</th>\n",
       "      <td>ee_003</td>\n",
       "      <td>5526.816</td>\n",
       "    </tr>\n",
       "    <tr>\n",
       "      <th>138</th>\n",
       "      <td>ee_004</td>\n",
       "      <td>25411.853</td>\n",
       "    </tr>\n",
       "    <tr>\n",
       "      <th>139</th>\n",
       "      <td>ee_005</td>\n",
       "      <td>23394.335</td>\n",
       "    </tr>\n",
       "    <tr>\n",
       "      <th>140</th>\n",
       "      <td>ee_006</td>\n",
       "      <td>21277.553</td>\n",
       "    </tr>\n",
       "    <tr>\n",
       "      <th>141</th>\n",
       "      <td>ee_007</td>\n",
       "      <td>55568.338</td>\n",
       "    </tr>\n",
       "    <tr>\n",
       "      <th>142</th>\n",
       "      <td>ee_008</td>\n",
       "      <td>3767.597</td>\n",
       "    </tr>\n",
       "    <tr>\n",
       "      <th>143</th>\n",
       "      <td>ee_009</td>\n",
       "      <td>44.208</td>\n",
       "    </tr>\n",
       "  </tbody>\n",
       "</table>\n",
       "<p>102 rows × 2 columns</p>\n",
       "</div>"
      ],
      "text/plain": [
       "    variables         VIF\n",
       "0      aa_000     420.886\n",
       "4      ag_000      15.961\n",
       "5      ag_001      46.531\n",
       "6      ag_002     811.378\n",
       "7      ag_003   20628.577\n",
       "8      ag_004  200254.900\n",
       "9      ag_005  378246.411\n",
       "10     ag_006  542765.189\n",
       "11     ag_007   71925.867\n",
       "12     ag_008    1725.857\n",
       "13     ag_009    1023.256\n",
       "14     ah_000   11399.055\n",
       "18     al_000     100.959\n",
       "19       am_0      79.438\n",
       "20     an_000    5246.916\n",
       "21     ao_000    1157.831\n",
       "22     ap_000    2091.549\n",
       "23     aq_000      94.028\n",
       "30     ay_000   18251.080\n",
       "31     ay_001   25314.644\n",
       "32     ay_002   16216.021\n",
       "33     ay_003    3771.174\n",
       "34     ay_004   11112.731\n",
       "35     ay_005  171835.021\n",
       "36     ay_006  950667.456\n",
       "37     ay_007 2304887.333\n",
       "38     ay_008 1408131.490\n",
       "39     ay_009     849.280\n",
       "40     az_000     832.128\n",
       "41     az_001     182.609\n",
       "..        ...         ...\n",
       "98     cs_000      10.932\n",
       "100    cs_002   60259.864\n",
       "101    cs_003   50344.748\n",
       "102    cs_004  175372.795\n",
       "103    cs_005 1284883.120\n",
       "104    cs_006   55671.479\n",
       "105    cs_007     263.317\n",
       "106    cs_008       6.015\n",
       "107    cs_009    1386.360\n",
       "116    dl_000       5.069\n",
       "117    dm_000       5.177\n",
       "118    dn_000      73.203\n",
       "119    do_000      14.694\n",
       "120    dp_000      13.616\n",
       "123    ds_000      27.504\n",
       "124    dt_000      24.408\n",
       "125    du_000       5.123\n",
       "126    dv_000       8.989\n",
       "132     ec_00      10.642\n",
       "133    ed_000      11.877\n",
       "134    ee_000  108664.304\n",
       "135    ee_001  122907.561\n",
       "136    ee_002   24873.683\n",
       "137    ee_003    5526.816\n",
       "138    ee_004   25411.853\n",
       "139    ee_005   23394.335\n",
       "140    ee_006   21277.553\n",
       "141    ee_007   55568.338\n",
       "142    ee_008    3767.597\n",
       "143    ee_009      44.208\n",
       "\n",
       "[102 rows x 2 columns]"
      ]
     },
     "execution_count": 50,
     "metadata": {},
     "output_type": "execute_result"
    }
   ],
   "source": [
    "X_coll[X_coll['VIF']>5]"
   ]
  },
  {
   "cell_type": "code",
   "execution_count": 76,
   "id": "9df5dd5d",
   "metadata": {},
   "outputs": [
    {
     "name": "stdout",
     "output_type": "stream",
     "text": [
      "65\n",
      "79\n",
      "84\n",
      "102\n"
     ]
    }
   ],
   "source": [
    "print(len(X_coll[X_coll['VIF']>1000]))\n",
    "print(len(X_coll[X_coll['VIF']>100]))\n",
    "print(len(X_coll[X_coll['VIF']>50]))\n",
    "print(len(X_coll[X_coll['VIF']>5]))\n",
    "\n",
    "\n"
   ]
  },
  {
   "cell_type": "code",
   "execution_count": 77,
   "id": "4e22f3ac",
   "metadata": {},
   "outputs": [],
   "source": [
    "very_highcollinear = list(X_coll[X_coll['VIF']>100]['variables'])"
   ]
  },
  {
   "cell_type": "code",
   "execution_count": 78,
   "id": "df0850fe",
   "metadata": {},
   "outputs": [
    {
     "data": {
      "text/plain": [
       "['aa_000',\n",
       " 'ag_002',\n",
       " 'ag_003',\n",
       " 'ag_004',\n",
       " 'ag_005',\n",
       " 'ag_006',\n",
       " 'ag_007',\n",
       " 'ag_008',\n",
       " 'ag_009',\n",
       " 'ah_000',\n",
       " 'al_000',\n",
       " 'an_000',\n",
       " 'ao_000',\n",
       " 'ap_000',\n",
       " 'ay_000',\n",
       " 'ay_001',\n",
       " 'ay_002',\n",
       " 'ay_003',\n",
       " 'ay_004',\n",
       " 'ay_005',\n",
       " 'ay_006',\n",
       " 'ay_007',\n",
       " 'ay_008',\n",
       " 'ay_009',\n",
       " 'az_000',\n",
       " 'az_001',\n",
       " 'az_002',\n",
       " 'az_003',\n",
       " 'az_004',\n",
       " 'az_005',\n",
       " 'az_006',\n",
       " 'az_007',\n",
       " 'ba_000',\n",
       " 'ba_001',\n",
       " 'ba_002',\n",
       " 'ba_003',\n",
       " 'ba_004',\n",
       " 'ba_005',\n",
       " 'ba_006',\n",
       " 'ba_007',\n",
       " 'ba_008',\n",
       " 'ba_009',\n",
       " 'bb_000',\n",
       " 'bg_000',\n",
       " 'bh_000',\n",
       " 'bi_000',\n",
       " 'bj_000',\n",
       " 'bt_000',\n",
       " 'bu_000',\n",
       " 'bv_000',\n",
       " 'bx_000',\n",
       " 'cc_000',\n",
       " 'cn_000',\n",
       " 'cn_001',\n",
       " 'cn_002',\n",
       " 'cn_003',\n",
       " 'cn_004',\n",
       " 'cn_005',\n",
       " 'cn_006',\n",
       " 'cn_007',\n",
       " 'cn_008',\n",
       " 'cn_009',\n",
       " 'cq_000',\n",
       " 'cs_002',\n",
       " 'cs_003',\n",
       " 'cs_004',\n",
       " 'cs_005',\n",
       " 'cs_006',\n",
       " 'cs_007',\n",
       " 'cs_009',\n",
       " 'ee_000',\n",
       " 'ee_001',\n",
       " 'ee_002',\n",
       " 'ee_003',\n",
       " 'ee_004',\n",
       " 'ee_005',\n",
       " 'ee_006',\n",
       " 'ee_007',\n",
       " 'ee_008']"
      ]
     },
     "execution_count": 78,
     "metadata": {},
     "output_type": "execute_result"
    }
   ],
   "source": [
    "very_highcollinear"
   ]
  },
  {
   "cell_type": "code",
   "execution_count": 80,
   "id": "a07d516c",
   "metadata": {},
   "outputs": [],
   "source": [
    "# Removing multi collinear features\n",
    "X_mc_remvd = X.drop(very_highcollinear,axis =1)"
   ]
  },
  {
   "cell_type": "code",
   "execution_count": 81,
   "id": "7ccd7f63",
   "metadata": {},
   "outputs": [
    {
     "data": {
      "text/plain": [
       "(60000, 67)"
      ]
     },
     "execution_count": 81,
     "metadata": {},
     "output_type": "execute_result"
    }
   ],
   "source": [
    "X_mc_remvd.shape"
   ]
  },
  {
   "cell_type": "code",
   "execution_count": 103,
   "id": "1a2d3d25",
   "metadata": {},
   "outputs": [],
   "source": [
    "## Standardzing the dataset after removing high collinear columns \n",
    "scaling=StandardScaler()\n",
    "X_mc_remvd_scl = scaling.fit_transform(X_mc_remvd)"
   ]
  },
  {
   "cell_type": "code",
   "execution_count": 104,
   "id": "f4a2c5b0",
   "metadata": {},
   "outputs": [
    {
     "name": "stdout",
     "output_type": "stream",
     "text": [
      "<class 'pandas.core.frame.DataFrame'>\n",
      "RangeIndex: 60000 entries, 0 to 59999\n",
      "Columns: 146 entries, aa_000 to eg_000\n",
      "dtypes: float64(145), int64(1)\n",
      "memory usage: 66.8 MB\n"
     ]
    }
   ],
   "source": [
    "X.info()"
   ]
  },
  {
   "cell_type": "code",
   "execution_count": 82,
   "id": "f0ea1d68",
   "metadata": {},
   "outputs": [],
   "source": [
    "from sklearn.preprocessing import StandardScaler\n",
    "from sklearn.model_selection import train_test_split"
   ]
  },
  {
   "cell_type": "code",
   "execution_count": 105,
   "id": "91f51a20",
   "metadata": {},
   "outputs": [],
   "source": [
    "# Split train and test data by 70:30 ratio(Dataset with All columns)\n",
    "X_train, X_test, y_train, y_test = train_test_split(X,Y,test_size=0.3,random_state=0)\n"
   ]
  },
  {
   "cell_type": "code",
   "execution_count": 106,
   "id": "3dd253c1",
   "metadata": {},
   "outputs": [],
   "source": [
    "# Split train and test data by 70:30 ratio(Dataset without high collinear columns)\n",
    "X_train_mc, X_test_mc, y_train_mc, y_test_mc = train_test_split(X_mc_remvd_scl,Y,test_size=0.3,random_state=0)\n"
   ]
  },
  {
   "cell_type": "code",
   "execution_count": 92,
   "id": "d9c89089",
   "metadata": {},
   "outputs": [],
   "source": [
    "from sklearn.metrics import accuracy_score\n",
    "from sklearn.preprocessing import StandardScaler,LabelEncoder\n",
    "from sklearn.linear_model import LogisticRegression\n",
    "from sklearn.tree import DecisionTreeClassifier\n",
    "from sklearn.ensemble import RandomForestClassifier\n",
    "from sklearn.ensemble import GradientBoostingClassifier\n"
   ]
  },
  {
   "cell_type": "code",
   "execution_count": 108,
   "id": "bfcd931c",
   "metadata": {},
   "outputs": [],
   "source": [
    "def Modelling(model,X_train,X_test,Y_train,Y_test):\n",
    "    model = model.fit(X_train,Y_train)\n",
    "    Y_pred = model.predict(X_test)\n",
    "    score = accuracy_score(Y_test, Y_pred)\n",
    "    return model,score\n",
    "    "
   ]
  },
  {
   "cell_type": "code",
   "execution_count": 128,
   "id": "3b104895",
   "metadata": {},
   "outputs": [],
   "source": [
    "Models = [LogisticRegression(),DecisionTreeClassifier(),RandomForestClassifier(),GradientBoostingClassifier()]"
   ]
  },
  {
   "cell_type": "code",
   "execution_count": 129,
   "id": "0a2493e8",
   "metadata": {},
   "outputs": [],
   "source": [
    "model_df = pd.DataFrame(Models,columns = ['Model_name'])"
   ]
  },
  {
   "cell_type": "code",
   "execution_count": 130,
   "id": "c89f2103",
   "metadata": {},
   "outputs": [
    {
     "data": {
      "text/html": [
       "<div>\n",
       "<style scoped>\n",
       "    .dataframe tbody tr th:only-of-type {\n",
       "        vertical-align: middle;\n",
       "    }\n",
       "\n",
       "    .dataframe tbody tr th {\n",
       "        vertical-align: top;\n",
       "    }\n",
       "\n",
       "    .dataframe thead th {\n",
       "        text-align: right;\n",
       "    }\n",
       "</style>\n",
       "<table border=\"1\" class=\"dataframe\">\n",
       "  <thead>\n",
       "    <tr style=\"text-align: right;\">\n",
       "      <th></th>\n",
       "      <th>Model_name</th>\n",
       "    </tr>\n",
       "  </thead>\n",
       "  <tbody>\n",
       "    <tr>\n",
       "      <th>0</th>\n",
       "      <td>LogisticRegression()</td>\n",
       "    </tr>\n",
       "    <tr>\n",
       "      <th>1</th>\n",
       "      <td>DecisionTreeClassifier()</td>\n",
       "    </tr>\n",
       "    <tr>\n",
       "      <th>2</th>\n",
       "      <td>RandomForestClassifier()</td>\n",
       "    </tr>\n",
       "    <tr>\n",
       "      <th>3</th>\n",
       "      <td>GradientBoostingClassifier()</td>\n",
       "    </tr>\n",
       "  </tbody>\n",
       "</table>\n",
       "</div>"
      ],
      "text/plain": [
       "                     Model_name\n",
       "0          LogisticRegression()\n",
       "1      DecisionTreeClassifier()\n",
       "2      RandomForestClassifier()\n",
       "3  GradientBoostingClassifier()"
      ]
     },
     "execution_count": 130,
     "metadata": {},
     "output_type": "execute_result"
    }
   ],
   "source": [
    "model_df"
   ]
  },
  {
   "cell_type": "code",
   "execution_count": 115,
   "id": "fd389cd6",
   "metadata": {},
   "outputs": [],
   "source": [
    "Accuracy_scores = []"
   ]
  },
  {
   "cell_type": "markdown",
   "id": "d0643bf9",
   "metadata": {},
   "source": [
    "## Logistic Regression "
   ]
  },
  {
   "cell_type": "code",
   "execution_count": 116,
   "id": "4fef53a1",
   "metadata": {},
   "outputs": [
    {
     "name": "stdout",
     "output_type": "stream",
     "text": [
      "Model name: LogisticRegression() Accuracy: 98.86111111111111\n"
     ]
    },
    {
     "name": "stderr",
     "output_type": "stream",
     "text": [
      "C:\\Users\\Bhaskar\\anaconda3\\envs\\py36\\lib\\site-packages\\sklearn\\linear_model\\_logistic.py:765: ConvergenceWarning: lbfgs failed to converge (status=1):\n",
      "STOP: TOTAL NO. of ITERATIONS REACHED LIMIT.\n",
      "\n",
      "Increase the number of iterations (max_iter) or scale the data as shown in:\n",
      "    https://scikit-learn.org/stable/modules/preprocessing.html\n",
      "Please also refer to the documentation for alternative solver options:\n",
      "    https://scikit-learn.org/stable/modules/linear_model.html#logistic-regression\n",
      "  extra_warning_msg=_LOGISTIC_SOLVER_CONVERGENCE_MSG)\n"
     ]
    }
   ],
   "source": [
    "\n",
    "X_train_mc, X_test_mc, y_train_mc, y_test_mc\n",
    "model , Score = Modelling(Models[0],X_train_mc,X_test_mc,y_train_mc,y_test_mc)\n",
    "print('Model name:',model,'Accuracy:',Score*100)\n",
    "Accuracy_scores.append(Score)\n"
   ]
  },
  {
   "cell_type": "markdown",
   "id": "2ab4ad42",
   "metadata": {},
   "source": [
    "## Decision Tree Classifier\n"
   ]
  },
  {
   "cell_type": "code",
   "execution_count": 118,
   "id": "7a1a643c",
   "metadata": {},
   "outputs": [
    {
     "name": "stdout",
     "output_type": "stream",
     "text": [
      "Model name: DecisionTreeClassifier() Accuracy: 99.02777777777779\n"
     ]
    }
   ],
   "source": [
    "model , Score = Modelling(Models[1],X_train,X_test,y_train,y_test)\n",
    "print('Model name:',model,'Accuracy:',Score*100)\n",
    "Accuracy_scores.append(Score)"
   ]
  },
  {
   "cell_type": "code",
   "execution_count": 119,
   "id": "3dc152cb",
   "metadata": {},
   "outputs": [
    {
     "name": "stdout",
     "output_type": "stream",
     "text": [
      "Model name: RandomForestClassifier() Accuracy: 99.32777777777778\n"
     ]
    }
   ],
   "source": [
    "model , Score = Modelling(Models[2],X_train,X_test,y_train,y_test)\n",
    "print('Model name:',model,'Accuracy:',Score*100)\n",
    "Accuracy_scores.append(Score)"
   ]
  },
  {
   "cell_type": "code",
   "execution_count": 120,
   "id": "69beb457",
   "metadata": {},
   "outputs": [
    {
     "name": "stdout",
     "output_type": "stream",
     "text": [
      "Model name: GradientBoostingClassifier() Accuracy: 99.17777777777778\n"
     ]
    }
   ],
   "source": [
    "model , Score = Modelling(Models[3],X_train,X_test,y_train,y_test)\n",
    "print('Model name:',model,'Accuracy:',Score*100)\n",
    "Accuracy_scores.append(Score)"
   ]
  },
  {
   "cell_type": "code",
   "execution_count": 124,
   "id": "d4358063",
   "metadata": {},
   "outputs": [],
   "source": [
    "Accuracy_scores_df = pd.DataFrame(Accuracy_scores,columns = ['Accuracy Score'])"
   ]
  },
  {
   "cell_type": "code",
   "execution_count": 131,
   "id": "2aa04338",
   "metadata": {},
   "outputs": [],
   "source": [
    "results = pd.concat([model_df,Accuracy_scores_df],axis =1)"
   ]
  },
  {
   "cell_type": "code",
   "execution_count": 132,
   "id": "bc8a67c7",
   "metadata": {},
   "outputs": [
    {
     "data": {
      "text/html": [
       "<div>\n",
       "<style scoped>\n",
       "    .dataframe tbody tr th:only-of-type {\n",
       "        vertical-align: middle;\n",
       "    }\n",
       "\n",
       "    .dataframe tbody tr th {\n",
       "        vertical-align: top;\n",
       "    }\n",
       "\n",
       "    .dataframe thead th {\n",
       "        text-align: right;\n",
       "    }\n",
       "</style>\n",
       "<table border=\"1\" class=\"dataframe\">\n",
       "  <thead>\n",
       "    <tr style=\"text-align: right;\">\n",
       "      <th></th>\n",
       "      <th>Model_name</th>\n",
       "      <th>Accuracy Score</th>\n",
       "    </tr>\n",
       "  </thead>\n",
       "  <tbody>\n",
       "    <tr>\n",
       "      <th>0</th>\n",
       "      <td>LogisticRegression()</td>\n",
       "      <td>0.989</td>\n",
       "    </tr>\n",
       "    <tr>\n",
       "      <th>1</th>\n",
       "      <td>DecisionTreeClassifier()</td>\n",
       "      <td>0.990</td>\n",
       "    </tr>\n",
       "    <tr>\n",
       "      <th>2</th>\n",
       "      <td>RandomForestClassifier()</td>\n",
       "      <td>0.993</td>\n",
       "    </tr>\n",
       "    <tr>\n",
       "      <th>3</th>\n",
       "      <td>GradientBoostingClassifier()</td>\n",
       "      <td>0.992</td>\n",
       "    </tr>\n",
       "  </tbody>\n",
       "</table>\n",
       "</div>"
      ],
      "text/plain": [
       "                     Model_name  Accuracy Score\n",
       "0          LogisticRegression()           0.989\n",
       "1      DecisionTreeClassifier()           0.990\n",
       "2      RandomForestClassifier()           0.993\n",
       "3  GradientBoostingClassifier()           0.992"
      ]
     },
     "execution_count": 132,
     "metadata": {},
     "output_type": "execute_result"
    }
   ],
   "source": [
    "results"
   ]
  },
  {
   "cell_type": "code",
   "execution_count": null,
   "id": "b22c5e42",
   "metadata": {},
   "outputs": [],
   "source": []
  }
 ],
 "metadata": {
  "kernelspec": {
   "display_name": "Python 3",
   "language": "python",
   "name": "python3"
  },
  "language_info": {
   "codemirror_mode": {
    "name": "ipython",
    "version": 3
   },
   "file_extension": ".py",
   "mimetype": "text/x-python",
   "name": "python",
   "nbconvert_exporter": "python",
   "pygments_lexer": "ipython3",
   "version": "3.6.13"
  }
 },
 "nbformat": 4,
 "nbformat_minor": 5
}
